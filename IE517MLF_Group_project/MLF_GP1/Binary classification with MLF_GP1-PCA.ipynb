{
 "cells": [
  {
   "cell_type": "markdown",
   "metadata": {},
   "source": [
    "# Binary classification with MLF_GP1_CreditScore with PCA"
   ]
  },
  {
   "cell_type": "code",
   "execution_count": 1,
   "metadata": {},
   "outputs": [],
   "source": [
    "import numpy as np\n",
    "import numpy.linalg as la\n",
    "import pandas as pd\n",
    "import seaborn as sns\n",
    "import matplotlib.pyplot as plt\n",
    "\n",
    "from sklearn.preprocessing import StandardScaler\n",
    "from sklearn.model_selection import train_test_split\n",
    "from sklearn.discriminant_analysis import LinearDiscriminantAnalysis\n",
    "from sklearn.manifold import TSNE\n",
    "from sklearn.decomposition import PCA\n",
    "\n",
    "from sklearn.model_selection import GridSearchCV\n",
    "from sklearn.model_selection import RepeatedStratifiedKFold\n",
    "from sklearn.model_selection import StratifiedKFold\n",
    "from sklearn.model_selection import cross_val_score\n",
    "\n",
    "from sklearn.metrics import accuracy_score, confusion_matrix, ConfusionMatrixDisplay, classification_report\n",
    "\n",
    "from sklearn.linear_model import LogisticRegression\n",
    "from sklearn.neighbors import KNeighborsClassifier\n",
    "from sklearn.tree import DecisionTreeClassifier\n",
    "from sklearn.svm import SVC\n",
    "from sklearn.ensemble import RandomForestClassifier\n",
    "import tensorflow as tf\n",
    "from tensorflow import keras\n",
    "from tensorflow.keras.models import Sequential\n",
    "from tensorflow.keras import models\n",
    "from tensorflow.keras import layers\n",
    "from tensorflow.keras.layers import Dense\n",
    "from tensorflow.keras.utils import to_categorical\n",
    "\n",
    "from keras_tuner import RandomSearch\n",
    "from tabulate import tabulate\n",
    "import warnings\n",
    "warnings.filterwarnings('ignore')"
   ]
  },
  {
   "cell_type": "markdown",
   "metadata": {},
   "source": [
    "#### EDA(For detailed exploratory data analysis, please refer to the MLF_GP1_EDA.ipynb)"
   ]
  },
  {
   "cell_type": "code",
   "execution_count": 2,
   "metadata": {},
   "outputs": [
    {
     "data": {
      "text/html": [
       "<div>\n",
       "<style scoped>\n",
       "    .dataframe tbody tr th:only-of-type {\n",
       "        vertical-align: middle;\n",
       "    }\n",
       "\n",
       "    .dataframe tbody tr th {\n",
       "        vertical-align: top;\n",
       "    }\n",
       "\n",
       "    .dataframe thead th {\n",
       "        text-align: right;\n",
       "    }\n",
       "</style>\n",
       "<table border=\"1\" class=\"dataframe\">\n",
       "  <thead>\n",
       "    <tr style=\"text-align: right;\">\n",
       "      <th></th>\n",
       "      <th>Sales/Revenues</th>\n",
       "      <th>Gross Margin</th>\n",
       "      <th>EBITDA</th>\n",
       "      <th>EBITDA Margin</th>\n",
       "      <th>Net Income Before Extras</th>\n",
       "      <th>Total Debt</th>\n",
       "      <th>Net Debt</th>\n",
       "      <th>LT Debt</th>\n",
       "      <th>ST Debt</th>\n",
       "      <th>Cash</th>\n",
       "      <th>...</th>\n",
       "      <th>Interest Coverage</th>\n",
       "      <th>Total Liquidity</th>\n",
       "      <th>Current Liquidity</th>\n",
       "      <th>Current Liabilities</th>\n",
       "      <th>EPS Before Extras</th>\n",
       "      <th>PE</th>\n",
       "      <th>ROA</th>\n",
       "      <th>ROE</th>\n",
       "      <th>InvGrd</th>\n",
       "      <th>Rating</th>\n",
       "    </tr>\n",
       "  </thead>\n",
       "  <tbody>\n",
       "    <tr>\n",
       "      <th>0</th>\n",
       "      <td>-0.005496</td>\n",
       "      <td>0.030763</td>\n",
       "      <td>0.018885</td>\n",
       "      <td>0.024515</td>\n",
       "      <td>0.146849</td>\n",
       "      <td>-0.029710</td>\n",
       "      <td>-0.019296</td>\n",
       "      <td>-0.042648</td>\n",
       "      <td>0.049875</td>\n",
       "      <td>-0.133716</td>\n",
       "      <td>...</td>\n",
       "      <td>0.136748</td>\n",
       "      <td>0.392143</td>\n",
       "      <td>-0.184887</td>\n",
       "      <td>0.062781</td>\n",
       "      <td>0.148305</td>\n",
       "      <td>0.100409</td>\n",
       "      <td>0.163266</td>\n",
       "      <td>0.102521</td>\n",
       "      <td>1</td>\n",
       "      <td>A1</td>\n",
       "    </tr>\n",
       "    <tr>\n",
       "      <th>1</th>\n",
       "      <td>-0.005496</td>\n",
       "      <td>0.030763</td>\n",
       "      <td>0.088716</td>\n",
       "      <td>0.094733</td>\n",
       "      <td>0.146849</td>\n",
       "      <td>-0.029710</td>\n",
       "      <td>-0.019296</td>\n",
       "      <td>-0.042648</td>\n",
       "      <td>0.049875</td>\n",
       "      <td>-0.133716</td>\n",
       "      <td>...</td>\n",
       "      <td>0.214657</td>\n",
       "      <td>0.392143</td>\n",
       "      <td>-0.184887</td>\n",
       "      <td>0.062781</td>\n",
       "      <td>0.148305</td>\n",
       "      <td>-0.089598</td>\n",
       "      <td>0.163266</td>\n",
       "      <td>0.102521</td>\n",
       "      <td>1</td>\n",
       "      <td>A1</td>\n",
       "    </tr>\n",
       "    <tr>\n",
       "      <th>2</th>\n",
       "      <td>-0.007045</td>\n",
       "      <td>0.023159</td>\n",
       "      <td>0.088716</td>\n",
       "      <td>0.096440</td>\n",
       "      <td>0.108590</td>\n",
       "      <td>0.039410</td>\n",
       "      <td>0.034268</td>\n",
       "      <td>0.009059</td>\n",
       "      <td>0.250371</td>\n",
       "      <td>0.101315</td>\n",
       "      <td>...</td>\n",
       "      <td>0.205290</td>\n",
       "      <td>0.483257</td>\n",
       "      <td>-0.017877</td>\n",
       "      <td>0.121357</td>\n",
       "      <td>0.110656</td>\n",
       "      <td>-0.045142</td>\n",
       "      <td>0.105711</td>\n",
       "      <td>0.103378</td>\n",
       "      <td>1</td>\n",
       "      <td>A1</td>\n",
       "    </tr>\n",
       "    <tr>\n",
       "      <th>3</th>\n",
       "      <td>-0.009396</td>\n",
       "      <td>0.028400</td>\n",
       "      <td>0.088716</td>\n",
       "      <td>0.099046</td>\n",
       "      <td>0.146137</td>\n",
       "      <td>0.030071</td>\n",
       "      <td>0.036938</td>\n",
       "      <td>-0.016964</td>\n",
       "      <td>0.356994</td>\n",
       "      <td>-0.052606</td>\n",
       "      <td>...</td>\n",
       "      <td>0.232991</td>\n",
       "      <td>0.996955</td>\n",
       "      <td>-0.122017</td>\n",
       "      <td>0.079051</td>\n",
       "      <td>0.151639</td>\n",
       "      <td>-0.008231</td>\n",
       "      <td>0.162421</td>\n",
       "      <td>0.132295</td>\n",
       "      <td>1</td>\n",
       "      <td>A1</td>\n",
       "    </tr>\n",
       "    <tr>\n",
       "      <th>4</th>\n",
       "      <td>-0.009009</td>\n",
       "      <td>0.027714</td>\n",
       "      <td>0.088716</td>\n",
       "      <td>0.098611</td>\n",
       "      <td>0.123500</td>\n",
       "      <td>0.024224</td>\n",
       "      <td>0.034445</td>\n",
       "      <td>-0.034132</td>\n",
       "      <td>0.461894</td>\n",
       "      <td>-0.090869</td>\n",
       "      <td>...</td>\n",
       "      <td>0.172906</td>\n",
       "      <td>1.711426</td>\n",
       "      <td>-0.161561</td>\n",
       "      <td>0.084319</td>\n",
       "      <td>0.130435</td>\n",
       "      <td>0.015528</td>\n",
       "      <td>0.156427</td>\n",
       "      <td>0.225144</td>\n",
       "      <td>1</td>\n",
       "      <td>A1</td>\n",
       "    </tr>\n",
       "  </tbody>\n",
       "</table>\n",
       "<p>5 rows × 28 columns</p>\n",
       "</div>"
      ],
      "text/plain": [
       "   Sales/Revenues  Gross Margin    EBITDA  EBITDA Margin  \\\n",
       "0       -0.005496      0.030763  0.018885       0.024515   \n",
       "1       -0.005496      0.030763  0.088716       0.094733   \n",
       "2       -0.007045      0.023159  0.088716       0.096440   \n",
       "3       -0.009396      0.028400  0.088716       0.099046   \n",
       "4       -0.009009      0.027714  0.088716       0.098611   \n",
       "\n",
       "   Net Income Before Extras  Total Debt  Net Debt   LT Debt   ST Debt  \\\n",
       "0                  0.146849   -0.029710 -0.019296 -0.042648  0.049875   \n",
       "1                  0.146849   -0.029710 -0.019296 -0.042648  0.049875   \n",
       "2                  0.108590    0.039410  0.034268  0.009059  0.250371   \n",
       "3                  0.146137    0.030071  0.036938 -0.016964  0.356994   \n",
       "4                  0.123500    0.024224  0.034445 -0.034132  0.461894   \n",
       "\n",
       "       Cash  ...  Interest Coverage  Total Liquidity  Current Liquidity  \\\n",
       "0 -0.133716  ...           0.136748         0.392143          -0.184887   \n",
       "1 -0.133716  ...           0.214657         0.392143          -0.184887   \n",
       "2  0.101315  ...           0.205290         0.483257          -0.017877   \n",
       "3 -0.052606  ...           0.232991         0.996955          -0.122017   \n",
       "4 -0.090869  ...           0.172906         1.711426          -0.161561   \n",
       "\n",
       "   Current Liabilities  EPS Before Extras        PE       ROA       ROE  \\\n",
       "0             0.062781           0.148305  0.100409  0.163266  0.102521   \n",
       "1             0.062781           0.148305 -0.089598  0.163266  0.102521   \n",
       "2             0.121357           0.110656 -0.045142  0.105711  0.103378   \n",
       "3             0.079051           0.151639 -0.008231  0.162421  0.132295   \n",
       "4             0.084319           0.130435  0.015528  0.156427  0.225144   \n",
       "\n",
       "   InvGrd  Rating  \n",
       "0       1      A1  \n",
       "1       1      A1  \n",
       "2       1      A1  \n",
       "3       1      A1  \n",
       "4       1      A1  \n",
       "\n",
       "[5 rows x 28 columns]"
      ]
     },
     "execution_count": 2,
     "metadata": {},
     "output_type": "execute_result"
    }
   ],
   "source": [
    "MLF_GP1 = pd.read_csv(\"MLF_GP1_CreditScore.csv\")\n",
    "MLF_GP1.head()"
   ]
  },
  {
   "cell_type": "code",
   "execution_count": 3,
   "metadata": {},
   "outputs": [
    {
     "data": {
      "image/png": "[encoded data removed]",
      "text/plain": [
       "<Figure size 576x288 with 1 Axes>"
      ]
     },
     "metadata": {
      "needs_background": "light"
     },
     "output_type": "display_data"
    }
   ],
   "source": [
    "df = MLF_GP1.copy()    \n",
    "# bar plot of multiRating\n",
    "value_counts = df['InvGrd'].value_counts()\n",
    "class_counts = pd.DataFrame({'Class': list(value_counts.index), 'value_count': value_counts})\n",
    "\n",
    "plt.figure(figsize = (8,4))\n",
    "g = sns.barplot(x = 'Class', y = 'value_count', data = class_counts, capsize = 0.3, palette = 'spring')\n",
    "g.set_title(\"Frequency of InvGrd\", fontsize = 15)\n",
    "g.set_xlabel(\"InvGrd\", fontsize = 13)\n",
    "g.set_ylabel(\"Frequency\", fontsize = 13)\n",
    "g.set_yticks([400, 800, 1200, 1600])\n",
    "for p in g.patches:\n",
    "    g.annotate(np.round(p.get_height(),decimals=2), \n",
    "                (p.get_x()+p.get_width()/2., p.get_height()), \n",
    "                ha = 'center', va = 'center', xytext=(0, 10), \n",
    "                textcoords='offset points', fontsize=14, color='black')"
   ]
  },
  {
   "cell_type": "code",
   "execution_count": 4,
   "metadata": {},
   "outputs": [
    {
     "data": {
      "text/plain": [
       "(1700, 26)"
      ]
     },
     "execution_count": 4,
     "metadata": {},
     "output_type": "execute_result"
    }
   ],
   "source": [
    "# Store the features in dataframe X\n",
    "X = MLF_GP1[MLF_GP1.columns.values[:-2]]\n",
    "\n",
    "# Standardize the features\n",
    "scaler = StandardScaler()\n",
    "X_std = pd.DataFrame(scaler.fit_transform(X), columns = X.columns.values)\n",
    "X_std.shape"
   ]
  },
  {
   "cell_type": "code",
   "execution_count": 5,
   "metadata": {},
   "outputs": [
    {
     "data": {
      "image/png": "[encoded data removed]",
      "text/plain": [
       "<Figure size 576x432 with 1 Axes>"
      ]
     },
     "metadata": {
      "needs_background": "light"
     },
     "output_type": "display_data"
    }
   ],
   "source": [
    "plt.figure(figsize = (8,6))\n",
    "cov_mat = np.cov(X_std.values.T)\n",
    "eigen_vals, eigen_vecs = la.eig(cov_mat)\n",
    "tot = sum(eigen_vals)\n",
    "var_exp = [(i / tot) for i in\n",
    "            sorted(eigen_vals, reverse=True)]\n",
    "cum_var_exp = np.cumsum(var_exp)\n",
    "plt.bar(range(1,27), var_exp, alpha=0.5, align='center',\n",
    "         label='individual explained variance')\n",
    "plt.step(range(1,27), cum_var_exp, where='mid',\n",
    "        label='cumulative explained variance')\n",
    "plt.ylabel('Explained variance ratio')\n",
    "plt.xlabel('Principal component index')\n",
    "plt.title(\"PCA for the features\")\n",
    "plt.legend(loc='best')\n",
    "plt.show()"
   ]
  },
  {
   "cell_type": "markdown",
   "metadata": {},
   "source": [
    "## Binary Classification"
   ]
  },
  {
   "cell_type": "code",
   "execution_count": 6,
   "metadata": {},
   "outputs": [
    {
     "data": {
      "text/plain": [
       "((1275, 26), (425, 26), (1275,), (425,))"
      ]
     },
     "execution_count": 6,
     "metadata": {},
     "output_type": "execute_result"
    }
   ],
   "source": [
    "# split in a stratified fashion\n",
    "X_train, X_test, y_train, y_test = train_test_split(X_std.copy(), MLF_GP1['InvGrd'], test_size = 0.25, \n",
    "                                                    stratify = MLF_GP1['InvGrd'], random_state = 123)\n",
    "X_train.shape, X_test.shape, y_train.shape, y_test.shape"
   ]
  },
  {
   "cell_type": "code",
   "execution_count": 7,
   "metadata": {},
   "outputs": [],
   "source": [
    "pca = PCA(n_components = 15)\n",
    "pca.fit(X_train)\n",
    "X_train = pca.transform(X_train)\n",
    "X_test = pca.transform(X_test)"
   ]
  },
  {
   "cell_type": "code",
   "execution_count": 8,
   "metadata": {},
   "outputs": [
    {
     "name": "stdout",
     "output_type": "stream",
     "text": [
      "The accuracy score of 5-fold cross validation for logreg is 0.765 +/- 0.006\n",
      "The test accuracy score for logreg is 0.751\n",
      "----------------------------------------------------------------------\n",
      "The accuracy score of 5-fold cross validation for Knn is 0.765 +/- 0.012\n",
      "The test accuracy score for Knn is 0.779\n",
      "----------------------------------------------------------------------\n",
      "The accuracy score of 5-fold cross validation for decision tree is 0.769 +/- 0.029\n",
      "The test accuracy score for decision tree is 0.76\n",
      "----------------------------------------------------------------------\n",
      "The accuracy score of 5-fold cross validation for SVC is 0.769 +/- 0.007\n",
      "The test accuracy score for SVC is 0.762\n",
      "----------------------------------------------------------------------\n"
     ]
    }
   ],
   "source": [
    "# fit four basic classifier models\n",
    "basic_classifier = ['logreg', 'Knn', 'decision tree', 'SVC']\n",
    "estimator = [LogisticRegression(random_state = 123),\n",
    "             KNeighborsClassifier(),\n",
    "             DecisionTreeClassifier(random_state = 123),\n",
    "             SVC(random_state = 123)]\n",
    "for i in range(4):\n",
    "    cv_score = cross_val_score(estimator[i], X_train, y_train, cv = 5)\n",
    "    print('The accuracy score of 5-fold cross validation for {} is {} +/- {}'.format(basic_classifier[i],\n",
    "                                                                                   np.round(np.mean(cv_score), 3),\n",
    "                                                                                   np.round(np.std(cv_score), 3)))\n",
    "    clf = estimator[i]\n",
    "    clf.fit(X_train, y_train)\n",
    "    print('The test accuracy score for {} is {}'.format(basic_classifier[i],\n",
    "                                                         np.round(clf.score(X_test, y_test), 3)))\n",
    "    print('----------------------------------------------------------------------')   "
   ]
  },
  {
   "cell_type": "markdown",
   "metadata": {},
   "source": [
    "<font color=blue>Clearly, the Support Vector classifier has the best porformances since it has the highest cv training socre as well as the highest test score.</font>"
   ]
  },
  {
   "cell_type": "markdown",
   "metadata": {},
   "source": [
    "<font color=blue>Then, we can narrow the range of the depth of the tree.</font>"
   ]
  },
  {
   "cell_type": "markdown",
   "metadata": {},
   "source": [
    "### Support vector Classfier"
   ]
  },
  {
   "cell_type": "code",
   "execution_count": 9,
   "metadata": {},
   "outputs": [],
   "source": [
    "# Hyperparameters tuning for a single decision tree\n",
    "svc = SVC(random_state = 123)\n",
    "regularization = [0.01, 0.1, 0.2, 0.5, 1, 2, 5, 10]\n",
    "kernel_type = ['linear', 'poly', 'rbf']\n",
    "class_weight = ['balanced', None]\n",
    "\n",
    "# define grid search\n",
    "grid = dict(C = regularization, kernel = kernel_type, class_weight = class_weight)\n",
    "skf = StratifiedKFold(n_splits = 5, shuffle = True, random_state = 123)\n",
    "grid_search = GridSearchCV(estimator = svc, \n",
    "                           param_grid = grid, \n",
    "                           n_jobs = -1, \n",
    "                           cv = skf, \n",
    "                           scoring = 'accuracy', \n",
    "                           error_score = 0)\n",
    "svc_cv = grid_search.fit(X_train, y_train)"
   ]
  },
  {
   "cell_type": "code",
   "execution_count": 10,
   "metadata": {},
   "outputs": [
    {
     "name": "stdout",
     "output_type": "stream",
     "text": [
      "The accuracy score of 5-fold cross validation is 0.79 +/- 0.026\n"
     ]
    }
   ],
   "source": [
    "svc_index = np.argmax(svc_cv.cv_results_['mean_test_score'])\n",
    "scv_mean_train = np.round(svc_cv.best_score_, 3)\n",
    "svc_std_train = np.round(svc_cv.cv_results_['std_test_score'][svc_index], 3)\n",
    "svc_score = str(scv_mean_train) + ' +/- ' + str(svc_std_train)\n",
    "print('The accuracy score of 5-fold cross validation is ' + svc_score)"
   ]
  },
  {
   "cell_type": "code",
   "execution_count": 11,
   "metadata": {},
   "outputs": [
    {
     "name": "stdout",
     "output_type": "stream",
     "text": [
      "The best parameters using cv is {'C': 10, 'class_weight': None, 'kernel': 'rbf'}\n"
     ]
    }
   ],
   "source": [
    "print('The best parameters using cv is {}'.format(svc_cv.best_params_))"
   ]
  },
  {
   "cell_type": "code",
   "execution_count": 12,
   "metadata": {},
   "outputs": [
    {
     "name": "stdout",
     "output_type": "stream",
     "text": [
      "The test accuracy score is 0.781\n"
     ]
    }
   ],
   "source": [
    "svc = svc_cv.best_estimator_\n",
    "\n",
    "svc_test = np.round(svc.score(X_test, y_test), 3)\n",
    "print('The test accuracy score is',svc_test)"
   ]
  },
  {
   "cell_type": "markdown",
   "metadata": {},
   "source": [
    "### Random Forest Classfier"
   ]
  },
  {
   "cell_type": "code",
   "execution_count": 13,
   "metadata": {},
   "outputs": [
    {
     "name": "stdout",
     "output_type": "stream",
     "text": [
      "The max depth for a single decision tree is 15\n"
     ]
    }
   ],
   "source": [
    "single_tree = DecisionTreeClassifier(random_state = 123).fit(X_train, y_train)\n",
    "print(\"The max depth for a single decision tree is\", single_tree.max_features_)"
   ]
  },
  {
   "cell_type": "code",
   "execution_count": 14,
   "metadata": {},
   "outputs": [],
   "source": [
    "# Hyperparameters tuning for a single decision tree\n",
    "dt = DecisionTreeClassifier(random_state = 123)\n",
    "depth = np.arange(2, 15, 1)\n",
    "\n",
    "# define grid search\n",
    "grid = dict(max_depth = depth)\n",
    "skf = StratifiedKFold(n_splits = 5, shuffle = True, random_state = 123)\n",
    "grid_search = GridSearchCV(estimator = dt, \n",
    "                           param_grid = grid, \n",
    "                           n_jobs = -1, \n",
    "                           cv = skf, \n",
    "                           scoring = 'accuracy', \n",
    "                           error_score = 0)\n",
    "dt_cv = grid_search.fit(X_train, y_train)"
   ]
  },
  {
   "cell_type": "code",
   "execution_count": 15,
   "metadata": {},
   "outputs": [
    {
     "name": "stdout",
     "output_type": "stream",
     "text": [
      "The best parameters using cv is {'max_depth': 5}\n"
     ]
    }
   ],
   "source": [
    "print('The best parameters using cv is {}'.format(dt_cv.best_params_))"
   ]
  },
  {
   "cell_type": "code",
   "execution_count": 16,
   "metadata": {},
   "outputs": [],
   "source": [
    "# Hyperparameters tuning for RF\n",
    "rf = RandomForestClassifier(random_state = 123)\n",
    "ne = [100, 300, 500]\n",
    "depth = np.arange(3, 6, 1)\n",
    "split = [2, 3, 4]\n",
    "leaf = [1, 3, 5]\n",
    "feature = [\"auto\", \"log2\", 'None']\n",
    "class_weight = ['balanced', None]\n",
    "\n",
    "# define grid search\n",
    "grid = dict(n_estimators = ne, max_depth = depth, min_samples_split = split, \n",
    "            min_samples_leaf = leaf, max_features = feature, class_weight = class_weight)\n",
    "\n",
    "grid_search = GridSearchCV(estimator = rf, \n",
    "                           param_grid = grid, \n",
    "                           n_jobs = -1, \n",
    "                           cv = skf, \n",
    "                           scoring = 'accuracy', \n",
    "                           error_score = 0)\n",
    "rf_cv = grid_search.fit(X_train, y_train)"
   ]
  },
  {
   "cell_type": "code",
   "execution_count": 17,
   "metadata": {},
   "outputs": [
    {
     "name": "stdout",
     "output_type": "stream",
     "text": [
      "The accuracy score of 5-fold cross validation is 0.791 +/- 0.013\n"
     ]
    }
   ],
   "source": [
    "rf_index = np.argmax(rf_cv.cv_results_['mean_test_score'])\n",
    "rf_mean_train = np.round(rf_cv.best_score_, 3)\n",
    "rf_std_train = np.round(rf_cv.cv_results_['std_test_score'][rf_index], 3)\n",
    "rf_score = str(rf_mean_train) + ' +/- ' + str(rf_std_train)\n",
    "print('The accuracy score of 5-fold cross validation is ' + rf_score)"
   ]
  },
  {
   "cell_type": "code",
   "execution_count": 18,
   "metadata": {},
   "outputs": [
    {
     "name": "stdout",
     "output_type": "stream",
     "text": [
      "The best parameters using cv is {'max_depth': 5}\n"
     ]
    }
   ],
   "source": [
    "print('The best parameters using cv is {}'.format(dt_cv.best_params_))"
   ]
  },
  {
   "cell_type": "code",
   "execution_count": 19,
   "metadata": {},
   "outputs": [
    {
     "name": "stdout",
     "output_type": "stream",
     "text": [
      "The test accuracy score is 0.779\n"
     ]
    }
   ],
   "source": [
    "rf = rf_cv.best_estimator_\n",
    "\n",
    "rf_test = np.round(rf.score(X_test, y_test), 3)\n",
    "print('The test accuracy score is',rf_test)"
   ]
  },
  {
   "cell_type": "code",
   "execution_count": 20,
   "metadata": {},
   "outputs": [
    {
     "data": {
      "image/png": "[encoded data removed]",
      "text/plain": [
       "<Figure size 576x432 with 1 Axes>"
      ]
     },
     "metadata": {
      "needs_background": "light"
     },
     "output_type": "display_data"
    }
   ],
   "source": [
    "plt.figure(figsize = (8,6))\n",
    "\n",
    "# Create a pd.Series of features importances\n",
    "importances = pd.Series(data = rf.feature_importances_,\n",
    "                        index = np.arange(0,15))\n",
    "\n",
    "# Sort importances\n",
    "importances_sorted = importances.sort_values()\n",
    "\n",
    "# Draw a horizontal barplot of importances_sorted\n",
    "importances_sorted.plot(kind = 'barh', color = 'lightgreen')\n",
    "plt.title('Features Importances')\n",
    "plt.show()"
   ]
  },
  {
   "cell_type": "markdown",
   "metadata": {},
   "source": [
    "### ANN"
   ]
  },
  {
   "cell_type": "code",
   "execution_count": 21,
   "metadata": {},
   "outputs": [],
   "source": [
    "np.random.seed(123)\n",
    "tf.random.set_seed(123)"
   ]
  },
  {
   "cell_type": "code",
   "execution_count": 22,
   "metadata": {},
   "outputs": [],
   "source": [
    "X_train_new = X_train.astype('float32')\n",
    "X_test_new = X_test.astype('float32')\n",
    "y_train_new = to_categorical(y_train, 2)\n",
    "y_test_new = to_categorical(y_test, 2)"
   ]
  },
  {
   "cell_type": "code",
   "execution_count": 23,
   "metadata": {},
   "outputs": [],
   "source": [
    "def build_model(hp):\n",
    "    model = models.Sequential()\n",
    "    # Input layer\n",
    "    model.add(\n",
    "        layers.Dense(\n",
    "            units = 26,\n",
    "            activation = \"relu\", input_shape = (X_train_new.shape[1],)\n",
    "        )\n",
    "    )\n",
    "    # First hidden layer\n",
    "    model.add(\n",
    "        layers.Dense(\n",
    "            units = hp.Int(\"num of neurons in the hidden layer\", \n",
    "                           min_value = 2, max_value = 26, step = 2, default = 26),\n",
    "            activation = \"relu\",\n",
    "        )\n",
    "    )\n",
    "    # Output layer\n",
    "    model.add(layers.Dense(2, activation = \"softmax\"))\n",
    "    \n",
    "    model.compile(\n",
    "        optimizer = keras.optimizers.Adam(\n",
    "            hp.Choice(\"learning_rate\", values = [1e-2, 1e-3, 1e-4])\n",
    "        ),\n",
    "        loss = \"categorical_crossentropy\",\n",
    "        metrics = [\"accuracy\"],\n",
    "    )\n",
    "    return model"
   ]
  },
  {
   "cell_type": "code",
   "execution_count": 24,
   "metadata": {},
   "outputs": [
    {
     "name": "stdout",
     "output_type": "stream",
     "text": [
      "Trial 5 Complete [00h 00m 00s]\n",
      "val_accuracy: 0.7178683280944824\n",
      "\n",
      "Best val_accuracy So Far: 0.7492163181304932\n",
      "Total elapsed time: 00h 00m 03s\n",
      "INFO:tensorflow:Oracle triggered exit\n"
     ]
    }
   ],
   "source": [
    "tuner = RandomSearch(\n",
    "    build_model,\n",
    "    objective = \"val_accuracy\",\n",
    "    max_trials = 5,\n",
    "    seed = 123,\n",
    "    overwrite = True,\n",
    "    directory = \"/Users/gaojinglun/Desktop/Coursework/IE517/Final Project\"\n",
    ")\n",
    "tuner.search(X_train_new, y_train_new, epochs = 5, validation_split = 0.25)"
   ]
  },
  {
   "cell_type": "code",
   "execution_count": 25,
   "metadata": {},
   "outputs": [
    {
     "name": "stdout",
     "output_type": "stream",
     "text": [
      "Search space summary\n",
      "Default search space size: 2\n",
      "num of neurons in the hidden layer (Int)\n",
      "{'default': 26, 'conditions': [], 'min_value': 2, 'max_value': 26, 'step': 2, 'sampling': None}\n",
      "learning_rate (Choice)\n",
      "{'default': 0.01, 'conditions': [], 'values': [0.01, 0.001, 0.0001], 'ordered': True}\n"
     ]
    }
   ],
   "source": [
    "tuner.search_space_summary()"
   ]
  },
  {
   "cell_type": "code",
   "execution_count": 26,
   "metadata": {},
   "outputs": [],
   "source": [
    "# tuner.results_summary()"
   ]
  },
  {
   "cell_type": "code",
   "execution_count": 27,
   "metadata": {},
   "outputs": [
    {
     "name": "stdout",
     "output_type": "stream",
     "text": [
      "Model: \"sequential_1\"\n",
      "_________________________________________________________________\n",
      "Layer (type)                 Output Shape              Param #   \n",
      "=================================================================\n",
      "dense_3 (Dense)              (None, 26)                416       \n",
      "_________________________________________________________________\n",
      "dense_4 (Dense)              (None, 4)                 108       \n",
      "_________________________________________________________________\n",
      "dense_5 (Dense)              (None, 2)                 10        \n",
      "=================================================================\n",
      "Total params: 534\n",
      "Trainable params: 534\n",
      "Non-trainable params: 0\n",
      "_________________________________________________________________\n"
     ]
    }
   ],
   "source": [
    "best_paras = tuner.get_best_hyperparameters(num_trials = 1)[0]\n",
    "ANN = build_model(best_paras)\n",
    "ANN.summary()"
   ]
  },
  {
   "cell_type": "code",
   "execution_count": 28,
   "metadata": {},
   "outputs": [
    {
     "name": "stdout",
     "output_type": "stream",
     "text": [
      "Epoch 1/5\n",
      "30/30 [==============================] - 0s 4ms/step - loss: 0.6394 - accuracy: 0.7218 - val_loss: 0.5804 - val_accuracy: 0.7210\n",
      "Epoch 2/5\n",
      "30/30 [==============================] - 0s 2ms/step - loss: 0.5051 - accuracy: 0.7814 - val_loss: 0.5706 - val_accuracy: 0.7210\n",
      "Epoch 3/5\n",
      "30/30 [==============================] - 0s 1ms/step - loss: 0.4795 - accuracy: 0.7950 - val_loss: 0.5947 - val_accuracy: 0.7241\n",
      "Epoch 4/5\n",
      "30/30 [==============================] - 0s 2ms/step - loss: 0.4643 - accuracy: 0.7887 - val_loss: 0.5789 - val_accuracy: 0.7335\n",
      "Epoch 5/5\n",
      "30/30 [==============================] - 0s 2ms/step - loss: 0.4538 - accuracy: 0.7960 - val_loss: 0.5996 - val_accuracy: 0.7304\n"
     ]
    }
   ],
   "source": [
    "history = ANN.fit(X_train_new, y_train_new, epochs = 5, validation_split = 0.25)"
   ]
  },
  {
   "cell_type": "code",
   "execution_count": 29,
   "metadata": {},
   "outputs": [
    {
     "name": "stdout",
     "output_type": "stream",
     "text": [
      "The accuracy score of 5 epochs validation is 0.726 +/- 0.005\n"
     ]
    }
   ],
   "source": [
    "ann_mean_train = np.round(np.mean(history.history['val_accuracy']), 3)\n",
    "ann_std_train = np.round(np.std(history.history['val_accuracy']), 3)\n",
    "ann_score = str(ann_mean_train) + ' +/- ' + str(ann_std_train)\n",
    "print('The accuracy score of 5 epochs validation is ' + ann_score)"
   ]
  },
  {
   "cell_type": "code",
   "execution_count": 30,
   "metadata": {},
   "outputs": [
    {
     "name": "stdout",
     "output_type": "stream",
     "text": [
      "14/14 [==============================] - 0s 731us/step - loss: 0.5292 - accuracy: 0.7647\n",
      "The accuracy score for Neural Network is 0.765\n"
     ]
    }
   ],
   "source": [
    "_, ann_test = ANN.evaluate(X_test_new, y_test_new)\n",
    "ann_test = np.round(ann_test, 3)\n",
    "print(\"The accuracy score for Neural Network is\", ann_test)"
   ]
  },
  {
   "cell_type": "markdown",
   "metadata": {},
   "source": [
    "## Results"
   ]
  },
  {
   "cell_type": "code",
   "execution_count": 31,
   "metadata": {},
   "outputs": [
    {
     "data": {
      "text/plain": [
       "<Figure size 1080x720 with 0 Axes>"
      ]
     },
     "metadata": {},
     "output_type": "display_data"
    },
    {
     "data": {
      "image/png": "[encoded data removed]",
      "text/plain": [
       "<Figure size 432x288 with 2 Axes>"
      ]
     },
     "metadata": {
      "needs_background": "light"
     },
     "output_type": "display_data"
    },
    {
     "data": {
      "image/png": "[encoded data removed]",
      "text/plain": [
       "<Figure size 432x288 with 2 Axes>"
      ]
     },
     "metadata": {
      "needs_background": "light"
     },
     "output_type": "display_data"
    },
    {
     "data": {
      "image/png": "[encoded data removed]",
      "text/plain": [
       "<Figure size 432x288 with 2 Axes>"
      ]
     },
     "metadata": {
      "needs_background": "light"
     },
     "output_type": "display_data"
    }
   ],
   "source": [
    "fig = plt.figure(figsize = (15,10))\n",
    "\n",
    "ConfusionMatrixDisplay(confusion_matrix(y_test, svc.predict(X_test))).plot()\n",
    "plt.title(\"Confusion matrix for Support Vector Classifier\")\n",
    "plt.show()\n",
    "\n",
    "ConfusionMatrixDisplay(confusion_matrix(y_test, rf.predict(X_test)), \n",
    "                       display_labels = rf.classes_).plot()\n",
    "plt.title(\"Confusion matrix for Random Forest Classifier\")\n",
    "plt.show()\n",
    "\n",
    "\n",
    "pred = np.argmax(ANN.predict(X_test), axis = 1)\n",
    "ConfusionMatrixDisplay(confusion_matrix(y_test, pred), \n",
    "                       display_labels = rf.classes_).plot()\n",
    "plt.title(\"Confusion matrix for ANN\")\n",
    "plt.show()"
   ]
  },
  {
   "cell_type": "code",
   "execution_count": 32,
   "metadata": {},
   "outputs": [
    {
     "name": "stdout",
     "output_type": "stream",
     "text": [
      "| Modle Name     | Train 5-fold CV / 5 epochs Accuracy   |   Test Accuracy |\n",
      "|----------------|---------------------------------------|-----------------|\n",
      "| Support Vector | 0.79 +/- 0.026                        |           0.781 |\n",
      "| Random Forest  | 0.791 +/- 0.013                       |           0.779 |\n",
      "| ANN            | 0.726 +/- 0.005                       |           0.765 |\n"
     ]
    }
   ],
   "source": [
    "Models = ['Support Vector', 'Random Forest', 'ANN']\n",
    "train_acc = [svc_score, rf_score, ann_score]\n",
    "test_acc = [svc_test, rf_test, ann_test]\n",
    "\n",
    "table = pd.DataFrame(np.column_stack((Models, train_acc, test_acc)), \n",
    "                      columns = ['Modle Name', 'Train 5-fold CV / 5 epochs Accuracy', 'Test Accuracy'])\n",
    "print(tabulate(table, headers = 'keys', showindex = False, tablefmt = \"github\"))"
   ]
  }
 ],
 "metadata": {
  "hide_input": false,
  "kernelspec": {
   "display_name": "Python 3",
   "language": "python",
   "name": "python3"
  },
  "language_info": {
   "codemirror_mode": {
    "name": "ipython",
    "version": 3
   },
   "file_extension": ".py",
   "mimetype": "text/x-python",
   "name": "python",
   "nbconvert_exporter": "python",
   "pygments_lexer": "ipython3",
   "version": "3.8.3"
  }
 },
 "nbformat": 4,
 "nbformat_minor": 4
}
