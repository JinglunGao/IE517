{
 "cells": [
  {
   "cell_type": "markdown",
   "metadata": {},
   "source": [
    "## ccdefault dataset"
   ]
  },
  {
   "cell_type": "code",
   "execution_count": 1,
   "metadata": {},
   "outputs": [],
   "source": [
    "import numpy as np\n",
    "import pandas as pd\n",
    "import seaborn as sns\n",
    "from matplotlib import pyplot as plt\n",
    "\n",
    "from sklearn.model_selection import train_test_split\n",
    "from sklearn.model_selection import StratifiedKFold\n",
    "from sklearn.model_selection import cross_val_score\n",
    "from sklearn.utils import resample\n",
    "from sklearn.model_selection import GridSearchCV\n",
    "from sklearn.metrics import confusion_matrix, ConfusionMatrixDisplay, classification_report\n",
    "\n",
    "from sklearn.tree import DecisionTreeClassifier\n",
    "from sklearn.metrics import accuracy_score\n",
    "from sklearn.ensemble import RandomForestClassifier\n",
    "sns.set()"
   ]
  },
  {
   "cell_type": "code",
   "execution_count": 2,
   "metadata": {},
   "outputs": [
    {
     "data": {
      "text/html": [
       "<div>\n",
       "<style scoped>\n",
       "    .dataframe tbody tr th:only-of-type {\n",
       "        vertical-align: middle;\n",
       "    }\n",
       "\n",
       "    .dataframe tbody tr th {\n",
       "        vertical-align: top;\n",
       "    }\n",
       "\n",
       "    .dataframe thead th {\n",
       "        text-align: right;\n",
       "    }\n",
       "</style>\n",
       "<table border=\"1\" class=\"dataframe\">\n",
       "  <thead>\n",
       "    <tr style=\"text-align: right;\">\n",
       "      <th></th>\n",
       "      <th>LIMIT_BAL</th>\n",
       "      <th>SEX</th>\n",
       "      <th>EDUCATION</th>\n",
       "      <th>MARRIAGE</th>\n",
       "      <th>AGE</th>\n",
       "      <th>PAY_0</th>\n",
       "      <th>PAY_2</th>\n",
       "      <th>PAY_3</th>\n",
       "      <th>PAY_4</th>\n",
       "      <th>PAY_5</th>\n",
       "      <th>...</th>\n",
       "      <th>BILL_AMT4</th>\n",
       "      <th>BILL_AMT5</th>\n",
       "      <th>BILL_AMT6</th>\n",
       "      <th>PAY_AMT1</th>\n",
       "      <th>PAY_AMT2</th>\n",
       "      <th>PAY_AMT3</th>\n",
       "      <th>PAY_AMT4</th>\n",
       "      <th>PAY_AMT5</th>\n",
       "      <th>PAY_AMT6</th>\n",
       "      <th>DEFAULT</th>\n",
       "    </tr>\n",
       "  </thead>\n",
       "  <tbody>\n",
       "    <tr>\n",
       "      <th>0</th>\n",
       "      <td>20000</td>\n",
       "      <td>2</td>\n",
       "      <td>2</td>\n",
       "      <td>1</td>\n",
       "      <td>24</td>\n",
       "      <td>2</td>\n",
       "      <td>2</td>\n",
       "      <td>-1</td>\n",
       "      <td>-1</td>\n",
       "      <td>-2</td>\n",
       "      <td>...</td>\n",
       "      <td>0</td>\n",
       "      <td>0</td>\n",
       "      <td>0</td>\n",
       "      <td>0</td>\n",
       "      <td>689</td>\n",
       "      <td>0</td>\n",
       "      <td>0</td>\n",
       "      <td>0</td>\n",
       "      <td>0</td>\n",
       "      <td>1</td>\n",
       "    </tr>\n",
       "    <tr>\n",
       "      <th>1</th>\n",
       "      <td>120000</td>\n",
       "      <td>2</td>\n",
       "      <td>2</td>\n",
       "      <td>2</td>\n",
       "      <td>26</td>\n",
       "      <td>-1</td>\n",
       "      <td>2</td>\n",
       "      <td>0</td>\n",
       "      <td>0</td>\n",
       "      <td>0</td>\n",
       "      <td>...</td>\n",
       "      <td>3272</td>\n",
       "      <td>3455</td>\n",
       "      <td>3261</td>\n",
       "      <td>0</td>\n",
       "      <td>1000</td>\n",
       "      <td>1000</td>\n",
       "      <td>1000</td>\n",
       "      <td>0</td>\n",
       "      <td>2000</td>\n",
       "      <td>1</td>\n",
       "    </tr>\n",
       "    <tr>\n",
       "      <th>2</th>\n",
       "      <td>90000</td>\n",
       "      <td>2</td>\n",
       "      <td>2</td>\n",
       "      <td>2</td>\n",
       "      <td>34</td>\n",
       "      <td>0</td>\n",
       "      <td>0</td>\n",
       "      <td>0</td>\n",
       "      <td>0</td>\n",
       "      <td>0</td>\n",
       "      <td>...</td>\n",
       "      <td>14331</td>\n",
       "      <td>14948</td>\n",
       "      <td>15549</td>\n",
       "      <td>1518</td>\n",
       "      <td>1500</td>\n",
       "      <td>1000</td>\n",
       "      <td>1000</td>\n",
       "      <td>1000</td>\n",
       "      <td>5000</td>\n",
       "      <td>0</td>\n",
       "    </tr>\n",
       "    <tr>\n",
       "      <th>3</th>\n",
       "      <td>50000</td>\n",
       "      <td>2</td>\n",
       "      <td>2</td>\n",
       "      <td>1</td>\n",
       "      <td>37</td>\n",
       "      <td>0</td>\n",
       "      <td>0</td>\n",
       "      <td>0</td>\n",
       "      <td>0</td>\n",
       "      <td>0</td>\n",
       "      <td>...</td>\n",
       "      <td>28314</td>\n",
       "      <td>28959</td>\n",
       "      <td>29547</td>\n",
       "      <td>2000</td>\n",
       "      <td>2019</td>\n",
       "      <td>1200</td>\n",
       "      <td>1100</td>\n",
       "      <td>1069</td>\n",
       "      <td>1000</td>\n",
       "      <td>0</td>\n",
       "    </tr>\n",
       "    <tr>\n",
       "      <th>4</th>\n",
       "      <td>50000</td>\n",
       "      <td>1</td>\n",
       "      <td>2</td>\n",
       "      <td>1</td>\n",
       "      <td>57</td>\n",
       "      <td>-1</td>\n",
       "      <td>0</td>\n",
       "      <td>-1</td>\n",
       "      <td>0</td>\n",
       "      <td>0</td>\n",
       "      <td>...</td>\n",
       "      <td>20940</td>\n",
       "      <td>19146</td>\n",
       "      <td>19131</td>\n",
       "      <td>2000</td>\n",
       "      <td>36681</td>\n",
       "      <td>10000</td>\n",
       "      <td>9000</td>\n",
       "      <td>689</td>\n",
       "      <td>679</td>\n",
       "      <td>0</td>\n",
       "    </tr>\n",
       "  </tbody>\n",
       "</table>\n",
       "<p>5 rows × 24 columns</p>\n",
       "</div>"
      ],
      "text/plain": [
       "   LIMIT_BAL  SEX  EDUCATION  MARRIAGE  AGE  PAY_0  PAY_2  PAY_3  PAY_4  \\\n",
       "0      20000    2          2         1   24      2      2     -1     -1   \n",
       "1     120000    2          2         2   26     -1      2      0      0   \n",
       "2      90000    2          2         2   34      0      0      0      0   \n",
       "3      50000    2          2         1   37      0      0      0      0   \n",
       "4      50000    1          2         1   57     -1      0     -1      0   \n",
       "\n",
       "   PAY_5  ...  BILL_AMT4  BILL_AMT5  BILL_AMT6  PAY_AMT1  PAY_AMT2  PAY_AMT3  \\\n",
       "0     -2  ...          0          0          0         0       689         0   \n",
       "1      0  ...       3272       3455       3261         0      1000      1000   \n",
       "2      0  ...      14331      14948      15549      1518      1500      1000   \n",
       "3      0  ...      28314      28959      29547      2000      2019      1200   \n",
       "4      0  ...      20940      19146      19131      2000     36681     10000   \n",
       "\n",
       "   PAY_AMT4  PAY_AMT5  PAY_AMT6  DEFAULT  \n",
       "0         0         0         0        1  \n",
       "1      1000         0      2000        1  \n",
       "2      1000      1000      5000        0  \n",
       "3      1100      1069      1000        0  \n",
       "4      9000       689       679        0  \n",
       "\n",
       "[5 rows x 24 columns]"
      ]
     },
     "execution_count": 2,
     "metadata": {},
     "output_type": "execute_result"
    }
   ],
   "source": [
    "ccdefault = pd.read_csv(\"ccdefault.csv\")\n",
    "df = ccdefault.drop(['ID'], axis = 1)\n",
    "df.head()"
   ]
  },
  {
   "cell_type": "code",
   "execution_count": 3,
   "metadata": {},
   "outputs": [
    {
     "name": "stdout",
     "output_type": "stream",
     "text": [
      "Number of Rows of Data =  30000\n",
      "Number of Columns of Data =  24\n"
     ]
    }
   ],
   "source": [
    "print(\"Number of Rows of Data = \", df.shape[0])\n",
    "print(\"Number of Columns of Data = \", df.shape[1])"
   ]
  },
  {
   "cell_type": "code",
   "execution_count": 4,
   "metadata": {},
   "outputs": [
    {
     "name": "stdout",
     "output_type": "stream",
     "text": [
      "<class 'pandas.core.frame.DataFrame'>\n",
      "RangeIndex: 30000 entries, 0 to 29999\n",
      "Data columns (total 24 columns):\n",
      " #   Column     Non-Null Count  Dtype\n",
      "---  ------     --------------  -----\n",
      " 0   LIMIT_BAL  30000 non-null  int64\n",
      " 1   SEX        30000 non-null  int64\n",
      " 2   EDUCATION  30000 non-null  int64\n",
      " 3   MARRIAGE   30000 non-null  int64\n",
      " 4   AGE        30000 non-null  int64\n",
      " 5   PAY_0      30000 non-null  int64\n",
      " 6   PAY_2      30000 non-null  int64\n",
      " 7   PAY_3      30000 non-null  int64\n",
      " 8   PAY_4      30000 non-null  int64\n",
      " 9   PAY_5      30000 non-null  int64\n",
      " 10  PAY_6      30000 non-null  int64\n",
      " 11  BILL_AMT1  30000 non-null  int64\n",
      " 12  BILL_AMT2  30000 non-null  int64\n",
      " 13  BILL_AMT3  30000 non-null  int64\n",
      " 14  BILL_AMT4  30000 non-null  int64\n",
      " 15  BILL_AMT5  30000 non-null  int64\n",
      " 16  BILL_AMT6  30000 non-null  int64\n",
      " 17  PAY_AMT1   30000 non-null  int64\n",
      " 18  PAY_AMT2   30000 non-null  int64\n",
      " 19  PAY_AMT3   30000 non-null  int64\n",
      " 20  PAY_AMT4   30000 non-null  int64\n",
      " 21  PAY_AMT5   30000 non-null  int64\n",
      " 22  PAY_AMT6   30000 non-null  int64\n",
      " 23  DEFAULT    30000 non-null  int64\n",
      "dtypes: int64(24)\n",
      "memory usage: 5.5 MB\n"
     ]
    }
   ],
   "source": [
    "df.info()"
   ]
  },
  {
   "cell_type": "code",
   "execution_count": 5,
   "metadata": {},
   "outputs": [
    {
     "data": {
      "image/png": "[encoded data removed]",
      "text/plain": [
       "<Figure size 576x288 with 1 Axes>"
      ]
     },
     "metadata": {},
     "output_type": "display_data"
    }
   ],
   "source": [
    "# bar plot of DEFAULT\n",
    "value_counts = df['DEFAULT'].value_counts()\n",
    "class_counts = pd.DataFrame({'Class': list(value_counts.index), 'value_count': value_counts})\n",
    "\n",
    "plt.figure(figsize = (8,4))\n",
    "g = sns.barplot(x = 'Class', y = 'value_count', data = class_counts, capsize = 0.3, palette = 'spring')\n",
    "g.set_title(\"Frequency of default\", fontsize = 15)\n",
    "g.set_xlabel(\"DEFAULT\", fontsize = 13)\n",
    "g.set_ylabel(\"Frequency\", fontsize = 13)\n",
    "g.set_yticks([5000, 10000, 15000, 20000, 25000, 30000])\n",
    "for p in g.patches:\n",
    "    g.annotate(np.round(p.get_height(),decimals=2), \n",
    "                (p.get_x()+p.get_width()/2., p.get_height()), \n",
    "                ha = 'center', va = 'center', xytext=(0, 10), \n",
    "                textcoords='offset points', fontsize=14, color='black')"
   ]
  },
  {
   "cell_type": "code",
   "execution_count": 6,
   "metadata": {},
   "outputs": [
    {
     "data": {
      "text/plain": [
       "((30000, 23), (30000,))"
      ]
     },
     "execution_count": 6,
     "metadata": {},
     "output_type": "execute_result"
    }
   ],
   "source": [
    "X = df.drop(['DEFAULT'], axis = 1)\n",
    "y = df['DEFAULT']\n",
    "X.shape, y.shape"
   ]
  },
  {
   "cell_type": "code",
   "execution_count": 7,
   "metadata": {},
   "outputs": [],
   "source": [
    "# random_state from 1 to 10\n",
    "random_seed = np.arange(1,11)\n",
    "inSampleScore = []\n",
    "outOfSampleScore = []\n",
    "for i in random_seed:\n",
    "    # with 90% for training and 10% for test\n",
    "    X_train, X_test, y_train, y_test = train_test_split(X, y, test_size = 0.1, stratify = y, random_state = i)\n",
    "    clf = DecisionTreeClassifier(random_state = 123)\n",
    "    clf.fit(X_train, y_train)\n",
    "    inSampleScore.append(clf.score(X_train, y_train))\n",
    "    outOfSampleScore.append(clf.score(X_test, y_test))"
   ]
  },
  {
   "cell_type": "code",
   "execution_count": 8,
   "metadata": {},
   "outputs": [
    {
     "name": "stdout",
     "output_type": "stream",
     "text": [
      "Individual accuracy scores for the in sample test (random_state from 1 to 10):\n",
      "[0.999333 0.99937  0.999444 0.999407 0.999296 0.999296 0.999296 0.99937\n",
      " 0.99937  0.99937 ]\n",
      "-----------------------------------------\n",
      "The mean for the in sample test score is:\n",
      "0.999356\n",
      "-----------------------------------------\n",
      "The standard deviation for the in sample test score is:\n",
      "4.7e-05\n"
     ]
    }
   ],
   "source": [
    "print(\"Individual accuracy scores for the in sample test (random_state from 1 to 10):\")\n",
    "print(np.round(inSampleScore, 6))\n",
    "print(\"-----------------------------------------\")\n",
    "print(\"The mean for the in sample test score is:\")\n",
    "print(np.round(np.mean(inSampleScore), 6))\n",
    "print(\"-----------------------------------------\")\n",
    "print(\"The standard deviation for the in sample test score is:\")\n",
    "print(np.round(np.std(inSampleScore), 6))"
   ]
  },
  {
   "cell_type": "code",
   "execution_count": 9,
   "metadata": {},
   "outputs": [
    {
     "name": "stdout",
     "output_type": "stream",
     "text": [
      "Individual accuracy scores for the out of sample test (random_state from 1 to 10):\n",
      "[0.723333 0.723667 0.728333 0.734667 0.727333 0.708667 0.740333 0.715333\n",
      " 0.714    0.72    ]\n",
      "-----------------------------------------\n",
      "The mean for the out of sample test score is:\n",
      "0.723567\n",
      "-----------------------------------------\n",
      "The standard deviation for the out of sample test score is:\n",
      "0.00914\n"
     ]
    }
   ],
   "source": [
    "print(\"Individual accuracy scores for the out of sample test (random_state from 1 to 10):\")\n",
    "print(np.round(outOfSampleScore, 6))\n",
    "print(\"-----------------------------------------\")\n",
    "print(\"The mean for the out of sample test score is:\")\n",
    "print(np.round(np.mean(outOfSampleScore), 6))\n",
    "print(\"-----------------------------------------\")\n",
    "print(\"The standard deviation for the out of sample test score is:\")\n",
    "print(np.round(np.std(outOfSampleScore), 6))"
   ]
  },
  {
   "cell_type": "code",
   "execution_count": 10,
   "metadata": {},
   "outputs": [],
   "source": [
    "skf = StratifiedKFold(n_splits = 10)\n",
    "clf = DecisionTreeClassifier(random_state = 123)\n",
    "# evaluate on the holdout set\n",
    "skf_cv_score = cross_val_score(clf, X, y, cv = skf)"
   ]
  },
  {
   "cell_type": "code",
   "execution_count": 11,
   "metadata": {},
   "outputs": [
    {
     "name": "stdout",
     "output_type": "stream",
     "text": [
      "Individual accuracy scores for the out of sample test:\n",
      "[0.709667 0.723667 0.721667 0.717333 0.715667 0.731    0.730333 0.739667\n",
      " 0.733667 0.733667]\n",
      "-----------------------------------------\n",
      "The mean for the out of sample test score is:\n",
      "0.725633\n",
      "-----------------------------------------\n",
      "The standard deviation for the out of sample test score is:\n",
      "0.009053\n"
     ]
    }
   ],
   "source": [
    "print(\"Individual accuracy scores for the out of sample test:\")\n",
    "print(np.round(skf_cv_score, 6))\n",
    "print(\"-----------------------------------------\")\n",
    "print(\"The mean for the out of sample test score is:\")\n",
    "print(np.round(np.mean(skf_cv_score), 6))\n",
    "print(\"-----------------------------------------\")\n",
    "print(\"The standard deviation for the out of sample test score is:\")\n",
    "print(np.round(np.std(skf_cv_score), 6))"
   ]
  },
  {
   "cell_type": "markdown",
   "metadata": {},
   "source": [
    "<font color=blue>The results on the hold out set from for loop and StratifiedKFold are very similar.</font>"
   ]
  },
  {
   "cell_type": "markdown",
   "metadata": {},
   "source": [
    "### Downsampling the majority class"
   ]
  },
  {
   "cell_type": "code",
   "execution_count": 12,
   "metadata": {},
   "outputs": [
    {
     "name": "stdout",
     "output_type": "stream",
     "text": [
      "Number of class 0 samples before: 23364\n",
      "Number of class 1 samples before: 6636\n"
     ]
    }
   ],
   "source": [
    "print('Number of class 0 samples before:', np.sum(y == 0))\n",
    "print('Number of class 1 samples before:', np.sum(y == 1))"
   ]
  },
  {
   "cell_type": "code",
   "execution_count": 13,
   "metadata": {},
   "outputs": [
    {
     "data": {
      "text/plain": [
       "((6636, 23), (6636,))"
      ]
     },
     "execution_count": 13,
     "metadata": {},
     "output_type": "execute_result"
    }
   ],
   "source": [
    "X_downsampled, y_downsampled = resample(X[y == 0],\n",
    "                         y[y == 0],\n",
    "                         replace = True,\n",
    "                         n_samples = X[y == 1].shape[0],\n",
    "                         random_state = 123)\n",
    "X_downsampled.shape, y_downsampled.shape"
   ]
  },
  {
   "cell_type": "code",
   "execution_count": 14,
   "metadata": {},
   "outputs": [
    {
     "name": "stdout",
     "output_type": "stream",
     "text": [
      "Number of class 0 samples after: 6636\n"
     ]
    }
   ],
   "source": [
    "print('Number of class 0 samples after:', np.sum(y_downsampled == 0))"
   ]
  },
  {
   "cell_type": "code",
   "execution_count": 15,
   "metadata": {},
   "outputs": [
    {
     "data": {
      "text/plain": [
       "((13272, 23), (13272,))"
      ]
     },
     "execution_count": 15,
     "metadata": {},
     "output_type": "execute_result"
    }
   ],
   "source": [
    "X_bal = np.vstack((X[y == 1], X_downsampled))\n",
    "y_bal = np.hstack((y[y == 1], y_downsampled))\n",
    "X_bal.shape, y_bal.shape"
   ]
  },
  {
   "cell_type": "code",
   "execution_count": 16,
   "metadata": {},
   "outputs": [
    {
     "data": {
      "text/plain": [
       "((11944, 23), (1328, 23), (11944,), (1328,))"
      ]
     },
     "execution_count": 16,
     "metadata": {},
     "output_type": "execute_result"
    }
   ],
   "source": [
    "X_train, X_test, y_train, y_test = train_test_split(X_bal, y_bal, test_size = 0.1, \n",
    "                                                    stratify = y_bal, random_state = 123)\n",
    "X_train.shape, X_test.shape, y_train.shape, y_test.shape"
   ]
  },
  {
   "cell_type": "code",
   "execution_count": 17,
   "metadata": {},
   "outputs": [
    {
     "name": "stdout",
     "output_type": "stream",
     "text": [
      "Individual accuracy scores for the out of sample test:\n",
      "[0.672803 0.661925 0.67113  0.651046 0.668342 0.673367 0.643216 0.671692\n",
      " 0.647404 0.644891]\n",
      "-----------------------------------------\n",
      "The mean for the out of sample test score is:\n",
      "0.660581\n",
      "-----------------------------------------\n",
      "The standard deviation for the out of sample test score is:\n",
      "0.011924\n"
     ]
    }
   ],
   "source": [
    "skf = StratifiedKFold(n_splits = 10)\n",
    "clf = DecisionTreeClassifier(random_state = 123)\n",
    "bal_skf_cv_score = cross_val_score(clf, X_train, y_train, cv = skf)\n",
    "print(\"Individual accuracy scores for the out of sample test:\")\n",
    "print(np.round(bal_skf_cv_score, 6))\n",
    "print(\"-----------------------------------------\")\n",
    "print(\"The mean for the out of sample test score is:\")\n",
    "print(np.round(np.mean(bal_skf_cv_score), 6))\n",
    "print(\"-----------------------------------------\")\n",
    "print(\"The standard deviation for the out of sample test score is:\")\n",
    "print(np.round(np.std(bal_skf_cv_score), 6))"
   ]
  },
  {
   "cell_type": "code",
   "execution_count": 18,
   "metadata": {},
   "outputs": [
    {
     "name": "stdout",
     "output_type": "stream",
     "text": [
      "The accuracy score for test set is  0.658886\n"
     ]
    }
   ],
   "source": [
    "clf = DecisionTreeClassifier(random_state = 123).fit(X_train, y_train)\n",
    "score = np.round(accuracy_score(y_test, clf.predict(X_test)), 6)\n",
    "print(\"The accuracy score for test set is \", score)"
   ]
  },
  {
   "cell_type": "markdown",
   "metadata": {},
   "source": [
    "**The accuracy score for both training set and test set drops a lot**"
   ]
  },
  {
   "cell_type": "markdown",
   "metadata": {},
   "source": [
    "#### Hyperparameter tuning for decision tree"
   ]
  },
  {
   "cell_type": "code",
   "execution_count": 19,
   "metadata": {},
   "outputs": [
    {
     "name": "stdout",
     "output_type": "stream",
     "text": [
      "The max depth for a single tree is 23\n"
     ]
    }
   ],
   "source": [
    "print(\"The max depth for a single tree is\", clf.max_features_)"
   ]
  },
  {
   "cell_type": "code",
   "execution_count": 20,
   "metadata": {},
   "outputs": [
    {
     "data": {
      "text/plain": [
       "GridSearchCV(cv=StratifiedKFold(n_splits=10, random_state=None, shuffle=False),\n",
       "             estimator=DecisionTreeClassifier(random_state=123), n_jobs=-1,\n",
       "             param_grid={'max_depth': array([ 2,  4,  6,  8, 10, 12, 14, 16, 18, 20, 22]),\n",
       "                         'max_features': ['auto', 'sqrt', 'log2']},\n",
       "             scoring='accuracy')"
      ]
     },
     "execution_count": 20,
     "metadata": {},
     "output_type": "execute_result"
    }
   ],
   "source": [
    "# Using grid search cross validation to select the best parameters\n",
    "skf = StratifiedKFold(n_splits = 10)\n",
    "tree_paras = {'max_depth': np.arange(2, 24, 2),\n",
    "              'max_features': [\"auto\", \"sqrt\", \"log2\"]}\n",
    "tree = DecisionTreeClassifier(random_state = 123)\n",
    "tree_cv = GridSearchCV(tree, tree_paras, scoring = 'accuracy', cv = skf, n_jobs = -1)\n",
    "tree_cv.fit(X_train, y_train)"
   ]
  },
  {
   "cell_type": "code",
   "execution_count": 21,
   "metadata": {},
   "outputs": [
    {
     "name": "stdout",
     "output_type": "stream",
     "text": [
      "The best training accuracy score using cv is 0.7063\n"
     ]
    }
   ],
   "source": [
    "print('The best training accuracy score using cv is {}'.format(np.round(tree_cv.best_score_, 4)))"
   ]
  },
  {
   "cell_type": "code",
   "execution_count": 22,
   "metadata": {},
   "outputs": [
    {
     "name": "stdout",
     "output_type": "stream",
     "text": [
      "The best parameters using cv is {'max_depth': 6, 'max_features': 'auto'}\n"
     ]
    }
   ],
   "source": [
    "print('The best parameters using cv is {}'.format(tree_cv.best_params_))"
   ]
  },
  {
   "cell_type": "code",
   "execution_count": 23,
   "metadata": {},
   "outputs": [
    {
     "name": "stdout",
     "output_type": "stream",
     "text": [
      "The accuracy score for test set is  0.685994\n"
     ]
    }
   ],
   "source": [
    "dt = DecisionTreeClassifier(max_depth = 6, max_features = 'auto', random_state = 123)\n",
    "dt.fit(X_train, y_train)\n",
    "score = np.round(accuracy_score(y_test, dt.predict(X_test)), 6)\n",
    "print(\"The accuracy score for test set is \", score)"
   ]
  },
  {
   "cell_type": "markdown",
   "metadata": {},
   "source": [
    "#### Hyperparameter tuning for Random Forest"
   ]
  },
  {
   "cell_type": "code",
   "execution_count": 24,
   "metadata": {
    "scrolled": true
   },
   "outputs": [
    {
     "data": {
      "text/plain": [
       "GridSearchCV(cv=StratifiedKFold(n_splits=10, random_state=None, shuffle=False),\n",
       "             estimator=RandomForestClassifier(random_state=123), n_jobs=-1,\n",
       "             param_grid={'max_depth': array([ 2,  4,  6,  8, 10]),\n",
       "                         'max_features': ['auto', 'sqrt', 'log2'],\n",
       "                         'min_samples_split': [2, 3, 5],\n",
       "                         'n_estimators': [100]},\n",
       "             scoring='accuracy')"
      ]
     },
     "execution_count": 24,
     "metadata": {},
     "output_type": "execute_result"
    }
   ],
   "source": [
    "# Using grid search cross validation to select the best parameters\n",
    "skf = StratifiedKFold(n_splits = 10)\n",
    "rf_paras = {'n_estimators': [100],\n",
    "            'max_depth': np.arange(2, 12, 2),\n",
    "            'min_samples_split': [2, 3, 5],\n",
    "            'max_features': [\"auto\", \"sqrt\", \"log2\"]}\n",
    "rf = RandomForestClassifier(random_state = 123)\n",
    "rf_cv = GridSearchCV(rf, rf_paras, scoring = 'accuracy', cv = skf, n_jobs = -1)\n",
    "rf_cv.fit(X_train, y_train)"
   ]
  },
  {
   "cell_type": "code",
   "execution_count": 25,
   "metadata": {},
   "outputs": [
    {
     "name": "stdout",
     "output_type": "stream",
     "text": [
      "The best training accuracy score using cv is 0.724463\n"
     ]
    }
   ],
   "source": [
    "print('The best training accuracy score using cv is {}'.format(np.round(rf_cv.best_score_, 6)))"
   ]
  },
  {
   "cell_type": "code",
   "execution_count": 26,
   "metadata": {},
   "outputs": [
    {
     "name": "stdout",
     "output_type": "stream",
     "text": [
      "The best parameters using cv is {'max_depth': 10, 'max_features': 'auto', 'min_samples_split': 5, 'n_estimators': 100}\n"
     ]
    }
   ],
   "source": [
    "print('The best parameters using cv is {}'.format(rf_cv.best_params_))"
   ]
  },
  {
   "cell_type": "code",
   "execution_count": 27,
   "metadata": {},
   "outputs": [
    {
     "name": "stdout",
     "output_type": "stream",
     "text": [
      "The accuracy score for test set is  0.713102\n"
     ]
    }
   ],
   "source": [
    "rf = RandomForestClassifier(n_estimators = 100, max_depth = 10, max_features = 'auto', \n",
    "                            min_samples_split = 5,random_state = 123)\n",
    "rf.fit(X_train, y_train)\n",
    "score = np.round(accuracy_score(y_test, rf.predict(X_test)), 6)\n",
    "print(\"The accuracy score for test set is \", score)"
   ]
  },
  {
   "cell_type": "code",
   "execution_count": 28,
   "metadata": {},
   "outputs": [
    {
     "name": "stdout",
     "output_type": "stream",
     "text": [
      "[[555 109]\n",
      " [272 392]]\n"
     ]
    }
   ],
   "source": [
    "print(confusion_matrix(y_test, rf.predict(X_test)))"
   ]
  },
  {
   "cell_type": "code",
   "execution_count": 29,
   "metadata": {},
   "outputs": [
    {
     "data": {
      "image/png": "[encoded data removed]",
      "text/plain": [
       "<Figure size 432x288 with 2 Axes>"
      ]
     },
     "metadata": {},
     "output_type": "display_data"
    }
   ],
   "source": [
    "ConfusionMatrixDisplay(confusion_matrix(y_test, rf.predict(X_test)), display_labels = rf.classes_).plot()\n",
    "plt.title(\"Confusion matrix for Random forest fit\")\n",
    "plt.show()"
   ]
  },
  {
   "cell_type": "code",
   "execution_count": 30,
   "metadata": {},
   "outputs": [
    {
     "name": "stdout",
     "output_type": "stream",
     "text": [
      "              precision    recall  f1-score   support\n",
      "\n",
      "           0       0.67      0.84      0.74       664\n",
      "           1       0.78      0.59      0.67       664\n",
      "\n",
      "    accuracy                           0.71      1328\n",
      "   macro avg       0.73      0.71      0.71      1328\n",
      "weighted avg       0.73      0.71      0.71      1328\n",
      "\n"
     ]
    }
   ],
   "source": [
    "print(classification_report(y_test, rf.predict(X_test)))"
   ]
  },
  {
   "cell_type": "code",
   "execution_count": 31,
   "metadata": {},
   "outputs": [
    {
     "name": "stdout",
     "output_type": "stream",
     "text": [
      "My name is {Jinglun Gao}\n",
      "My NetID is: {jinglun3}\n",
      "I hereby certify that I have read the University policy on Academic Integrity and that I am not in violation.\n"
     ]
    }
   ],
   "source": [
    "print(\"My name is {Jinglun Gao}\")\n",
    "print(\"My NetID is: {jinglun3}\")\n",
    "print(\"I hereby certify that I have read the University policy on Academic Integrity and that I am not in violation.\")"
   ]
  }
 ],
 "metadata": {
  "hide_input": false,
  "kernelspec": {
   "display_name": "Python 3",
   "language": "python",
   "name": "python3"
  },
  "language_info": {
   "codemirror_mode": {
    "name": "ipython",
    "version": 3
   },
   "file_extension": ".py",
   "mimetype": "text/x-python",
   "name": "python",
   "nbconvert_exporter": "python",
   "pygments_lexer": "ipython3",
   "version": "3.8.3"
  }
 },
 "nbformat": 4,
 "nbformat_minor": 4
}
